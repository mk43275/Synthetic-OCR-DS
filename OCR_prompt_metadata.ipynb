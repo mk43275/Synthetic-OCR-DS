{
 "cells": [
  {
   "cell_type": "markdown",
   "metadata": {},
   "source": [
    "# Creating Prompt and Response Metadata for Each OCR Image Using OpenAI API"
   ]
  },
  {
   "cell_type": "code",
   "execution_count": 5,
   "metadata": {},
   "outputs": [],
   "source": [
    "from dotenv import load_dotenv # load .env file for obtaining api key\n",
    "from openai import OpenAI      # text generation\n",
    "import pandas as pd            # save generated text as csv\n",
    "\n",
    "OCR_IMAGE_FILE_NAME = 'OCR_IMG_'\n",
    "MAX_WORDS = 175\n",
    "\n",
    "load_dotenv()  # config .env file, used to read api key for OpenAI\n",
    "client = OpenAI()\n",
    "\n",
    "def OCR_prompt_rewrite(given_text, unique_code, max_tokens = MAX_WORDS):\n",
    "    response = client.chat.completions.create(\n",
    "    model=\"gpt-3.5-turbo\",\n",
    "    messages=[\n",
    "        {\n",
    "        \"role\": \"system\",\n",
    "        \"content\": \"\"\"You will receive a text. Your task is to create a JSON file for each given text, using a unique code name I provide. The JSON file should include the following attributes for each unique code:\n",
    "\n",
    "        Prompt 1: 'What text does the image have?'\n",
    "        Response 1: 'The image contains {given text}'\n",
    "\n",
    "        Prompt 2: 'Describe this image.'\n",
    "        Response 2: '{A short description of what you think the given text represents}'\n",
    "\n",
    "        Prompt 3: 'Rewrite the question, \"What is this?\"'\n",
    "        Response 3: '{A unique one-sentence question based on the given text}'\n",
    "\n",
    "        Please Make sure to contain the Prompt # and Response # in JSON format.\n",
    "        \"\"\"\n",
    "        },\n",
    "\n",
    "        {\n",
    "        \"role\": \"user\",\n",
    "        \"content\": f\"Given text: {given_text}, Unique code: {unique_code}\"\n",
    "        }\n",
    "    ],\n",
    "    temperature=1,\n",
    "    max_tokens=max_tokens,\n",
    "    top_p=1\n",
    "    )\n",
    "\n",
    "    return response.choices[0].message.content"
   ]
  },
  {
   "cell_type": "markdown",
   "metadata": {},
   "source": [
    "Example run just to double check that the team is on task and that the API is working as expected."
   ]
  },
  {
   "cell_type": "code",
   "execution_count": 6,
   "metadata": {},
   "outputs": [
    {
     "name": "stdout",
     "output_type": "stream",
     "text": [
      "{\n",
      "    \"OCR_IMG_0\": {\n",
      "        \"Prompt 1\": \"What text does the image have?\",\n",
      "        \"Response 1\": \"The image contains Aspirin\",\n",
      "        \"Prompt 2\": \"Describe this image.\",\n",
      "        \"Response 2\": \"The text 'Aspirin' represents a common over-the-counter medication used for pain relief and reducing fever.\",\n",
      "        \"Prompt 3\": \"Rewrite the question, 'What is this?'\",\n",
      "        \"Response 3\": \"What medication name is visible on the image?\"\n",
      "    }\n",
      "}\n",
      "\n",
      "{\n",
      "    \"OCR_IMG_1\": {\n",
      "        \"Prompt 1\": \"What text does the image have?\",\n",
      "        \"Response 1\": \"The image contains Chasing Chaos: A Journey of Discovery\",\n",
      "        \"Prompt 2\": \"Describe this image.\",\n",
      "        \"Response 2\": \"The text suggests a story or adventure related to discovery and the pursuit of chaos.\",\n",
      "        \"Prompt 3\": \"Rewrite the question, \\\"What is this?\\\"\",\n",
      "        \"Response 3\": \"What journey is depicted in this text?\"\n",
      "    }\n",
      "}\n",
      "\n",
      "{\n",
      "    \"OCR_IMG_2\": {\n",
      "        \"Prompt 1\": \"What text does the image have?\",\n",
      "        \"Response 1\": \"The image contains Midnight Solitude\",\n",
      "        \"Prompt 2\": \"Describe this image.\",\n",
      "        \"Response 2\": \"The text 'Midnight Solitude' suggests a peaceful and lonely nighttime scene\",\n",
      "        \"Prompt 3\": \"Rewrite the question, 'What is this?'\",\n",
      "        \"Response 3\": \"What does the phrase 'Midnight Solitude' evoke in your mind?\"\n",
      "    }\n",
      "}\n",
      "\n",
      "{\n",
      "    \"OCR_IMG_3\": {\n",
      "        \"Prompt 1\": \"What text does the image have?\",\n",
      "        \"Response 1\": \"The image contains Hexadecane\",\n",
      "        \"Prompt 2\": \"Describe this image.\",\n",
      "        \"Response 2\": \"The image most likely represents a chemical compound named Hexadecane.\",\n",
      "        \"Prompt 3\": \"Rewrite the question, \\\"What is this?\\\"\",\n",
      "        \"Response 3\": \"What is the name of this chemical compound?\"\n",
      "    }\n",
      "}\n",
      "\n",
      "{\n",
      "    \"OCR_IMG_4\": {\n",
      "        \"Prompt 1\": \"What text does the image have?\",\n",
      "        \"Response 1\": \"The image contains Evelyn Thornwood\",\n",
      "        \"Prompt 2\": \"Describe this image.\",\n",
      "        \"Response 2\": \"The text 'Evelyn Thornwood' likely represents the name of a person or a character.\",\n",
      "        \"Prompt 3\": \"Rewrite the question, 'What is this?'\",\n",
      "        \"Response 3\": \"Who is Evelyn Thornwood?\"\n",
      "    }\n",
      "}\n",
      "\n"
     ]
    }
   ],
   "source": [
    "data = { 'Words': ['Aspirin', 'Chasing Chaos: A Journey of Discovery', 'Midnight Solitude', 'Hexadecane', 'Evelyn Thornwood'] }\n",
    "\n",
    "df = pd.DataFrame(data)\n",
    "\n",
    "for index, row in df.iterrows():\n",
    "    result = OCR_prompt_rewrite(row['Words'], (OCR_IMAGE_FILE_NAME + str(index)))\n",
    "    print(result)\n",
    "    print()"
   ]
  },
  {
   "cell_type": "code",
   "execution_count": null,
   "metadata": {},
   "outputs": [],
   "source": []
  }
 ],
 "metadata": {
  "kernelspec": {
   "display_name": "summer-research",
   "language": "python",
   "name": "python3"
  },
  "language_info": {
   "codemirror_mode": {
    "name": "ipython",
    "version": 3
   },
   "file_extension": ".py",
   "mimetype": "text/x-python",
   "name": "python",
   "nbconvert_exporter": "python",
   "pygments_lexer": "ipython3",
   "version": "3.12.3"
  }
 },
 "nbformat": 4,
 "nbformat_minor": 2
}
